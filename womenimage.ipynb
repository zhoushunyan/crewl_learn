{
 "cells": [
  {
   "cell_type": "code",
   "execution_count": 1,
   "metadata": {},
   "outputs": [],
   "source": [
    "import requests\n",
    "import chardet\n",
    "from bs4 import BeautifulSoup\n",
    "import random\n",
    "from urllib import request\n",
    "import os\n",
    "import time\n"
   ]
  },
  {
   "cell_type": "code",
   "execution_count": 2,
   "metadata": {},
   "outputs": [],
   "source": [
    "def GetHtml(number):\n",
    "    USER_AGENTS=[\"Mozilla/4.0 (compatible; MSIE 6.0; Windows NT 5.1; SV1; AcooBrowser; \\\n",
    "        .NET CLR 1.1.4322; .NET CLR 2.0.50727)\",\n",
    "        \"Mozilla/4.0 (compatible; MSIE 7.0; Windows NT 6.0; Acoo Browser; SLCC1;\\\n",
    "         .NET CLR 2.0.50727; Media Center PC 5.0; .NET CLR 3.0.04506)\",\n",
    "        \"Mozilla/4.0 (compatible; MSIE 7.0; AOL 9.5; AOLBuild 4337.35; Windows NT 5.1;\\\n",
    "         .NET CLR 1.1.4322; .NET CLR 2.0.50727)\",\n",
    "        \"Mozilla/4.0 (compatible; MSIE 6.0; Windows NT 5.1; SV1; QQDownload 732; \\\n",
    "        .NET4.0C; .NET4.0E)\"]\n",
    "    proxies=[{\"HTTP\":\"167.71.198.204:8080\"},\n",
    "               {\"HTTP\":\"106.54.219.223:8888\"},\n",
    "               {\"HTTP\":\"159.8.114.37:8123\"}]\n",
    "    #url=\"http://www.27270.com/ent/meinvtupian/list_11_\"+str(number+1)+\".html\"\n",
    "    #url=\"https://www.plmm.com.cn/xinggan/index_\"+str(number+1)+\".html\"\n",
    "    url=\"https://www.plmm.com.cn/xinggan/index_\"+str(number+2)+\".html\"\n",
    "    r=requests.get(url,headers={\"User-Agent\":random.choice(USER_AGENTS)},proxies=random.choice(proxies))\n",
    "    code =chardet.detect(r.content)[\"encoding\"]\n",
    "    return r.content.decode(code)\n",
    "\n",
    "    "
   ]
  },
  {
   "cell_type": "code",
   "execution_count": 3,
   "metadata": {},
   "outputs": [],
   "source": [
    "imglist=[]\n",
    "def Get_ImgData(pageNum):\n",
    "    for k in range(pageNum):\n",
    "        time.sleep(1)\n",
    "        html = GetHtml(pageNum)\n",
    "        soup = BeautifulSoup(html, \"html.parser\")\n",
    "        pa = soup.find_all(\"div\",{'class':\"figure figure-img\"})\n",
    "        for pas in pa:\n",
    "            img = pas.find_all(\"img\")\n",
    "            imglist.append(img)\n",
    "        #print(imglist)\n",
    "        return imglist\n"
   ]
  },
  {
   "cell_type": "code",
   "execution_count": 4,
   "metadata": {},
   "outputs": [],
   "source": [
    "def SaveFile(name):\n",
    "    if os.path.exists(name):\n",
    "        os.mkdir(\"photos\")\n",
    "    else:\n",
    "        os.mkdir(name)\n",
    "    os.chdir(name)\n",
    "    for img in imglist:\n",
    "        image_name=img[0]['alt']\n",
    "        suffix=img[0]['src']\n",
    "        print(\"图片名\",image_name)\n",
    "        print(\"图片链接：\",suffix)\n",
    "        try:\n",
    "            time.sleep(1)\n",
    "            request.urlretrieve(\"http:\"+suffix,image_name+str('.jpg'))\n",
    "        except Exception as err:\n",
    "            print(err)\n",
    "    return\n",
    "def main(pageNum,name):\n",
    "    Get_ImgData(pageNum)\n",
    "    SaveFile(name)\n"
   ]
  },
  {
   "cell_type": "code",
   "execution_count": null,
   "metadata": {},
   "outputs": [
    {
     "name": "stdout",
     "output_type": "stream",
     "text": [
      "图片名 格格污巫时尚惊艳女秘书妩媚火辣性感写真图片\n",
      "图片链接： //img.plmm.com.cn/xinggan/20181129/smalle2ef9e2feb5cf445.jpg\n",
      "图片名 杨晨晨sugar阳光甜蜜清新美女萌系生活照图片\n",
      "图片链接： //img.plmm.com.cn/xinggan/20181129/smalldaf747be5116ee0d.jpg\n",
      "图片名 杨晨晨sugar妖媚狂野旗袍制服模特黑丝美腿私房照图片\n",
      "图片链接： //img.plmm.com.cn/xinggan/20181129/smallbefe709c8ff3dd6b.jpg\n",
      "图片名 王曼妮好Q清新美女超性感文艺艺术写真图片\n",
      "图片链接： //img.plmm.com.cn/xinggan/20181129/smalla231afaf677517ac.jpg\n",
      "图片名 王曼妮好Q娇艳欲滴90后mm情趣内衣私房照图片\n",
      "图片链接： //img.plmm.com.cn/xinggan/20181129/small73b59839c9a4f120.jpg\n",
      "图片名 Sandy陈天扬清新美女楚楚动人修长美腿性感私房照图片\n",
      "图片链接： //img.plmm.com.cn/xinggan/20181129/smallb486fb81a5e4b196.jpg\n",
      "图片名 杨晨晨sugar时尚风骚女秘书美胸蜂腰黑丝美腿火辣撩人图片\n",
      "图片链接： //img.plmm.com.cn/xinggan/20181128/small53087cdb9a2c7878.jpg\n",
      "图片名 杨晨晨sugar清纯粉嫩90后mm制服艺术写真图片\n",
      "图片链接： //img.plmm.com.cn/xinggan/20181128/small11af1e683da67b4a.jpg\n",
      "图片名 王曼妮好Q甜蜜楚楚动人蕾丝比基尼白富美泳池素颜美拍图片\n",
      "图片链接： //img.plmm.com.cn/xinggan/20181128/small6188987a29fdb2fd.jpg\n",
      "图片名 李李七七喜喜素颜文艺唯美90后mm艺术写真图片\n",
      "图片链接： //img.plmm.com.cn/xinggan/20181128/small5c95450b7637893a.jpg\n",
      "图片名 Abby李雅白皙成熟娇艳欲滴妖媚嫩模旅拍图片\n",
      "图片链接： //img.plmm.com.cn/xinggan/20181127/smalle9b901e19966f844.jpg\n",
      "<urlopen error retrieval incomplete: got only 10952 out of 17511 bytes>\n",
      "图片名 兜豆靓Youlina娇嫩可爱小甜心海边生活照图片\n",
      "图片链接： //img.plmm.com.cn/xinggan/20181127/small934091f6a79cbe56.jpg\n",
      "图片名 杨晨晨sugar火辣超性感兔女郎酷MM艺术写真图片\n",
      "图片链接： //img.plmm.com.cn/xinggan/20181127/small0d831c87a24865c0.jpg\n",
      "图片名 杨晨晨sugar童颜巨乳酥胸小甜心女仆制服迷人图片\n",
      "图片链接： //img.plmm.com.cn/xinggan/20181127/small4c89266c7988ebb1.jpg\n",
      "图片名 妤薇Vivian时尚惊艳白富美火辣身材旅拍图片\n",
      "图片链接： //img.plmm.com.cn/xinggan/20181126/small76df1dbefa041500.jpg\n",
      "图片名 妤薇Vivian丰乳肥臀超性感尤物海边旅拍图片\n",
      "图片链接： //img.plmm.com.cn/xinggan/20181126/smalld2758c521d6417b5.jpg\n",
      "图片名 夏笑笑Summer酥胸水蛇腰情趣内衣靓妹性感私房照图片\n",
      "图片链接： //img.plmm.com.cn/xinggan/20181126/small101df010b962e6f0.jpg\n",
      "图片名 杨晨晨sugar娇艳欲滴大眼萌系90后mm性感写真图片\n",
      "图片链接： //img.plmm.com.cn/xinggan/20181126/small956a6c70b57aacb1.jpg\n",
      "图片名 妤薇Vivian丰乳肥臀蕾丝内衣嫩模极品撩人图片\n",
      "图片链接： //img.plmm.com.cn/xinggan/20181125/smalla503e0e2025cbf19.jpg\n",
      "图片名 杨晨晨sugar时尚靓丽白富美阳光海边旅拍图片\n",
      "图片链接： //img.plmm.com.cn/xinggan/20181125/smalla6132b19d2cec33a.jpg\n",
      "图片名 杨晨晨sugar娇艳欲滴美艳白富美靓丽写真图片\n",
      "图片链接： //img.plmm.com.cn/xinggan/20181125/smallbfaf136d5054a484.jpg\n",
      "图片名 夏正正极品酷MM粉嫩妖媚萝莉生活照图片\n",
      "图片链接： //img.plmm.com.cn/xinggan/20181125/small5890bc8f2d761e3c.jpg\n",
      "图片名 夏正正妖媚酷MM娇艳欲滴黑丝网袜野性撩人图片\n",
      "图片链接： //img.plmm.com.cn/xinggan/20181125/small11808c352bcabc43.jpg\n",
      "图片名 嫣儿极品白富美妖媚艺术写真图片\n",
      "图片链接： //img.plmm.com.cn/xinggan/20181125/small8f4ded064824328f.jpg\n"
     ]
    }
   ],
   "source": [
    "main(2,'women1')"
   ]
  },
  {
   "cell_type": "code",
   "execution_count": null,
   "metadata": {},
   "outputs": [],
   "source": []
  }
 ],
 "metadata": {
  "kernelspec": {
   "display_name": "Python 3",
   "language": "python",
   "name": "python3"
  },
  "language_info": {
   "codemirror_mode": {
    "name": "ipython",
    "version": 3
   },
   "file_extension": ".py",
   "mimetype": "text/x-python",
   "name": "python",
   "nbconvert_exporter": "python",
   "pygments_lexer": "ipython3",
   "version": "3.5.3"
  }
 },
 "nbformat": 4,
 "nbformat_minor": 2
}
