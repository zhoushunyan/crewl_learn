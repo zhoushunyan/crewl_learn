{
 "cells": [
  {
   "cell_type": "code",
   "execution_count": 1,
   "metadata": {},
   "outputs": [],
   "source": [
    "import requests\n",
    "from bs4 import BeautifulSoup\n",
    "import re\n",
    "import chardet\n",
    "import random\n",
    "data_dic_http=[]\n",
    "data_dic_https=[]\n"
   ]
  },
  {
   "cell_type": "code",
   "execution_count": 4,
   "metadata": {},
   "outputs": [],
   "source": [
    "def Get_Ip(n=5):\n",
    "    userAgent=[\"Mozilla/4.0 (compatible; MSIE 6.0; Windows NT 5.1; SV1; AcooBrowser; \\\n",
    "        .NET CLR 1.1.4322; .NET CLR 2.0.50727)\",\n",
    "        \"Mozilla/4.0 (compatible; MSIE 7.0; Windows NT 6.0; Acoo Browser; SLCC1;\\\n",
    "         .NET CLR 2.0.50727; Media Center PC 5.0; .NET CLR 3.0.04506)\",\n",
    "        \"Mozilla/5.0 (Windows NT 6.1; WOW64) AppleWebKit/536.11 (KHTML, like Gecko)\\\n",
    "         Chrome/20.0.1132.11 TaoBrowser/2.0 Safari/536.11\",\n",
    "        \"Mozilla/5.0 (Windows NT 6.1; WOW64) AppleWebKit/537.1 (KHTML, like Gecko) \\\n",
    "        Chrome/21.0.1180.71 Safari/537.1 LBBROWSER\",\n",
    "        \"Mozilla/4.0 (compatible; MSIE 6.0; Windows NT 5.1; SV1; QQDownload 732;\\\n",
    "         .NET4.0C; .NET4.0E; LBBROWSER)\",\n",
    "        \"Mozilla/4.0 (compatible; MSIE 7.0; Windows NT 6.1; WOW64; Trident/5.0; \\\n",
    "        SLCC2; .NET CLR 2.0.50727; .NET CLR 3.5.30729; .NET CLR 3.0.30729; \\\n",
    "        Media Center PC 6.0; .NET4.0C; .NET4.0E)\"]\n",
    "    proxies=[{\"HTTP\": \"117.63.78.64:6666\"},\n",
    "               {\"HTTPS\": \"222.185.22.108:6666\"}]\n",
    "    url=\"http://www.xicidaili.com/\"\n",
    "    r=requests.get(url,headers={\"User-Agent\":random.choice(userAgent)})\n",
    "    code = chardet.detect(r.content)[\"encoding\"]\n",
    "    html =r.content.decode(code)\n",
    "    soup=BeautifulSoup(html,\"html.parser\")\n",
    "    parentTable=soup.find(\"table\",attrs={\"id\":\"ip_list\"})\n",
    "    trs=parentTable.find_all(\"tr\")\n",
    "    for i in range(2):\n",
    "        trs.pop(0)\n",
    "    for each in trs:\n",
    "        if each.find_all(\"td\"):\n",
    "            tds=each.find_all(\"td\")\n",
    "            reg=re.compile(\"(\\d+)天\")\n",
    "            days=re.findall(reg,tds[6].string)\n",
    "            if days:\n",
    "                if tds[5].string==\"HTTPS\" and int(days[0])>=10:\n",
    "                    data_dic_https.append(tds[1].string+\":\"+tds[2].string)\n",
    "                if tds[5].string==\"HTTP\" and int(days[0])>=10:\n",
    "                    data_dic_http.append(tds[1].string+\":\"+tds[2].string)\n",
    "                else:\n",
    "                    continue\n",
    "        else:\n",
    "            continue\n",
    "        if len(data_dic_http)>=n and len(data_dic_http)>=n:\n",
    "            break\n",
    "        \n",
    "    return data_dic_http,data_dic_https\n",
    "                \n",
    "                    "
   ]
  },
  {
   "cell_type": "code",
   "execution_count": 5,
   "metadata": {},
   "outputs": [
    {
     "name": "stdout",
     "output_type": "stream",
     "text": [
      "['122.51.49.88:8888', '60.2.44.182:30963', '218.75.158.153:3128', '112.95.20.107:8888', '49.85.211.213:8118', '118.25.13.185:8118', '222.249.238.138:8080', '122.51.49.88:8888', '60.2.44.182:30963', '218.75.158.153:3128']\n",
      "['117.186.49.50:55443', '120.79.64.147:8118', '60.191.11.237:3128', '14.20.235.21:9797', '122.224.65.201:3128', '221.229.252.98:8080', '36.112.139.146:3128', '60.191.11.237:3128', '117.186.49.50:55443', '120.79.64.147:8118', '119.84.112.137:80', '14.20.235.21:9797', '122.224.65.201:3128']\n"
     ]
    }
   ],
   "source": [
    "http_list,https_list=Get_Ip(10)\n",
    "print(http_list)\n",
    "print(https_list)"
   ]
  },
  {
   "cell_type": "code",
   "execution_count": null,
   "metadata": {},
   "outputs": [],
   "source": []
  }
 ],
 "metadata": {
  "kernelspec": {
   "display_name": "Python 3",
   "language": "python",
   "name": "python3"
  },
  "language_info": {
   "codemirror_mode": {
    "name": "ipython",
    "version": 3
   },
   "file_extension": ".py",
   "mimetype": "text/x-python",
   "name": "python",
   "nbconvert_exporter": "python",
   "pygments_lexer": "ipython3",
   "version": "3.5.3"
  }
 },
 "nbformat": 4,
 "nbformat_minor": 2
}
