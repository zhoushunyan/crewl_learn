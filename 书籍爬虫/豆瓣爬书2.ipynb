{
 "cells": [
  {
   "cell_type": "code",
   "execution_count": 2,
   "metadata": {},
   "outputs": [],
   "source": [
    "import xlrd\n",
    "import xlwt\n",
    "from xlutils.copy import copy\n",
    "\n",
    "def write_excel_xls(path, sheet_name, value):\n",
    "    index = len(value)  # 获取需要写入数据的行数\n",
    "    workbook = xlwt.Workbook()  # 新建一个工作簿\n",
    "    sheet = workbook.add_sheet(sheet_name)  # 在工作簿中新建一个表格\n",
    "    for i in range(0, index):\n",
    "        for j in range(0, len(value[i])):\n",
    "            sheet.write(i, j, value[i][j])  # 像表格中写入数据（对应的行和列）\n",
    "    workbook.save(path)  # 保存工作簿\n",
    "    print(\"xls格式表格写入数据成功！\")\n",
    "\n",
    "def read_excel_xls(path):\n",
    "    data = []\n",
    "    workbook = xlrd.open_workbook(path)  # 打开工作簿\n",
    "    sheets = workbook.sheet_names()  # 获取工作簿中的所有表格\n",
    "    worksheet = workbook.sheet_by_name(sheets[0])  # 获取工作簿中所有表格中的的第一个表格\n",
    "    if worksheet.nrows == 1:\n",
    "        print(\"目前是第一行\")\n",
    "    else:\n",
    "        for i in range(1, worksheet.nrows): #从第二行取值\n",
    "            dataTemp = []\n",
    "            for j in range(0, worksheet.ncols):\n",
    "                #print(worksheet.cell_value(i, j), \"\\t\", end=\"\")  # 逐行逐列读取数据\n",
    "                dataTemp.append(worksheet.cell_value(i, j))\n",
    "            data.append(dataTemp)\n",
    "    return data\n",
    "     \n",
    "def write_excel_xls_append_norepeat(path, value):\n",
    "    workbook = xlrd.open_workbook(path)  # 打开工作簿\n",
    "    sheets = workbook.sheet_names()  # 获取工作簿中的所有表格\n",
    "    worksheet = workbook.sheet_by_name(sheets[0])  # 获取工作簿中所有表格中的的第一个表格\n",
    "    rows_old = worksheet.nrows  # 获取表格中已存在的数据的行数\n",
    "    new_workbook = copy(workbook)  # 将xlrd对象拷贝转化为xlwt对象\n",
    "    new_worksheet = new_workbook.get_sheet(0)  # 获取转化后工作簿中的第一个表格\n",
    "    rid = 0\n",
    "    for i in range(0, len(value)):\n",
    "        data = read_excel_xls(path)\n",
    "        data_temp = []\n",
    "        for m in range(0,len(data)):\n",
    "            data_temp.append(data[m][1:len(data[m])])\n",
    "        value_temp = []\n",
    "        for m in range(0,len(value)):\n",
    "            value_temp.append(value[m][1:len(value[m])])\n",
    "        \n",
    "        if value_temp[i] not in data_temp:\n",
    "            for j in range(0, len(value[i])):\n",
    "                new_worksheet.write(rid+rows_old, j, value[i][j])  # 追加写入数据，注意是从i+rows_old行开始写入\n",
    "            rid = rid + 1\n",
    "            new_workbook.save(path)  # 保存工作簿\n",
    "            print(\"xls格式表格【追加】写入数据成功！\")\n",
    "        else:\n",
    "            print(\"数据重复\")"
   ]
  },
  {
   "cell_type": "code",
   "execution_count": 4,
   "metadata": {},
   "outputs": [
    {
     "name": "stdout",
     "output_type": "stream",
     "text": [
      "xls格式表格【追加】写入数据成功！\n",
      "目前是第一行\n",
      "xls格式表格【追加】写入数据成功！\n"
     ]
    }
   ],
   "source": [
    "if __name__ == '__main__':\n",
    "    value = [\n",
    "        [1,\"解忧杂货店\",9.6,100,100,100,100,100,100,100],\n",
    "        [1,\"三体\",9.6,100,100,100,100,100,100,100]\n",
    "    ]\n",
    "    write_excel_xls_append_norepeat(r'doubantest1.xls', value)"
   ]
  },
  {
   "cell_type": "code",
   "execution_count": null,
   "metadata": {},
   "outputs": [],
   "source": []
  }
 ],
 "metadata": {
  "kernelspec": {
   "display_name": "Python 3",
   "language": "python",
   "name": "python3"
  },
  "language_info": {
   "codemirror_mode": {
    "name": "ipython",
    "version": 3
   },
   "file_extension": ".py",
   "mimetype": "text/x-python",
   "name": "python",
   "nbconvert_exporter": "python",
   "pygments_lexer": "ipython3",
   "version": "3.5.3"
  }
 },
 "nbformat": 4,
 "nbformat_minor": 2
}
