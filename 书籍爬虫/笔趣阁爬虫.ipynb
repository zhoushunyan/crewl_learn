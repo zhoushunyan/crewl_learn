{
 "cells": [
  {
   "cell_type": "code",
   "execution_count": null,
   "metadata": {},
   "outputs": [],
   "source": [
    "# -*- coding:UTF-8 -*-\n",
    "import re                       #导入re模块\n",
    "import xlwt\n",
    "import chardet\n",
    "from urllib import request\n",
    "import random\n",
    "\n",
    "def getHtml(url):               # 获取网页内容\n",
    "    USER_AGENTS = [\"Mozilla/4.0 (compatible; MSIE 6.0; Windows NT 5.1; SV1; AcooBrowser; \\\n",
    "        .NET CLR 1.1.4322; .NET CLR 2.0.50727)\",\n",
    "        \"Mozilla/4.0 (compatible; MSIE 7.0; Windows NT 6.0; Acoo Browser; SLCC1;\\\n",
    "         .NET CLR 2.0.50727; Media Center PC 5.0; .NET CLR 3.0.04506)\",\n",
    "        \"Mozilla/5.0 (Windows NT 6.1; WOW64) AppleWebKit/536.11 (KHTML, like Gecko)\\\n",
    "         Chrome/20.0.1132.11 TaoBrowser/2.0 Safari/536.11\",\n",
    "        \"Mozilla/5.0 (Windows NT 6.1; WOW64) AppleWebKit/537.1 (KHTML, like Gecko) \\\n",
    "        Chrome/21.0.1180.71 Safari/537.1 LBBROWSER\",\n",
    "        \"Mozilla/4.0 (compatible; MSIE 6.0; Windows NT 5.1; SV1; QQDownload 732;\\\n",
    "         .NET4.0C; .NET4.0E; LBBROWSER)\",\n",
    "        \"Mozilla/4.0 (compatible; MSIE 7.0; Windows NT 6.1; WOW64; Trident/5.0; \\\n",
    "        SLCC2; .NET CLR 2.0.50727; .NET CLR 3.5.30729; .NET CLR 3.0.30729; \\\n",
    "        Media Center PC 6.0; .NET4.0C; .NET4.0E)\"]            # 浏览器(末尾附浏览器)\n",
    "    proxies = []                # 代理IP（末尾附IP）\n",
    "    req = request.Request(url)  # 设置url地址\n",
    "    req.add_header('User-Agent', random.choice(USER_AGENTS))  # 随机选取浏览器\n",
    "    #proxy_support = request.ProxyHandler({\"http\": random.choice(proxies)})  # 随机选取IP地址\n",
    "    #opener = request.build_opener(proxy_support)  # 获取网站访问的对象\n",
    "    #request.install_opener(opener)\n",
    "    res = request.urlopen(req)                    # 处理浏览器返回的对象\n",
    "    html = res.read()\n",
    "    return html\n",
    "\n",
    "  \n"
   ]
  },
  {
   "cell_type": "code",
   "execution_count": null,
   "metadata": {},
   "outputs": [],
   "source": [
    "def get_Datalist():\n",
    "    # 网址分析\n",
    "    URL = \"http://www.biqukan.com/1_1094/5433843.html\"\n",
    "    html = getHtml(URL)                                 # 传入需要分析网页\n",
    "    code = chardet.detect(html)[\"encoding\"]             # 获取网页编码\n",
    "    html = html.decode(code,'replace').encode(\"utf-8\")  # 解编码，转成utf-8编码\n",
    "    # 设置正则表达式\n",
    "    reg = re.compile(r'<div id=\"content\" class=\"showtxt\"><script>app2();</script><br />(*?)<script>app2();</script>', re.S)\n",
    "    result = re.findall(reg, html.decode(\"utf8\",'replace'))  #replace:替换非法字符\n",
    "    return result\n"
   ]
  },
  {
   "cell_type": "code",
   "execution_count": null,
   "metadata": {},
   "outputs": [],
   "source": [
    "res=get_Datalist()\n",
    "print(res)"
   ]
  },
  {
   "cell_type": "code",
   "execution_count": null,
   "metadata": {},
   "outputs": [],
   "source": []
  },
  {
   "cell_type": "code",
   "execution_count": null,
   "metadata": {},
   "outputs": [],
   "source": []
  }
 ],
 "metadata": {
  "kernelspec": {
   "display_name": "Python 3",
   "language": "python",
   "name": "python3"
  },
  "language_info": {
   "codemirror_mode": {
    "name": "ipython",
    "version": 3
   },
   "file_extension": ".py",
   "mimetype": "text/x-python",
   "name": "python",
   "nbconvert_exporter": "python",
   "pygments_lexer": "ipython3",
   "version": "3.5.3"
  }
 },
 "nbformat": 4,
 "nbformat_minor": 2
}
