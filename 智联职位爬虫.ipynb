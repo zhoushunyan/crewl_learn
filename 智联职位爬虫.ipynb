{
 "cells": [
  {
   "cell_type": "code",
   "execution_count": 1,
   "metadata": {},
   "outputs": [],
   "source": [
    "import requests\n",
    "import chardet\n",
    "import xlwt\n",
    "from urllib import request\n",
    "import re\n",
    "import random\n",
    "import urllib"
   ]
  },
  {
   "cell_type": "code",
   "execution_count": 2,
   "metadata": {},
   "outputs": [],
   "source": [
    "def getHtml(page_number,city,jobname):\n",
    "    USER_AGENTS=[\"Mozilla/4.0 (compatible; MSIE 6.0; Windows NT 5.1; SV1; AcooBrowser; \\\n",
    "        .NET CLR 1.1.4322; .NET CLR 2.0.50727)\",\n",
    "                   \"Mozilla/4.0 (compatible; MSIE 7.0; Windows NT 6.0; Acoo Browser; SLCC1;\\\n",
    "                    .NET CLR 2.0.50727; Media Center PC 5.0; .NET CLR 3.0.04506)\",\n",
    "                   \"Mozilla/5.0 (Windows NT 6.1; WOW64) AppleWebKit/536.11 (KHTML, like Gecko)\\\n",
    "                    Chrome/20.0.1132.11 TaoBrowser/2.0 Safari/536.11\",\n",
    "                   \"Mozilla/5.0 (Windows NT 6.1; WOW64) AppleWebKit/537.1 (KHTML, like Gecko) \\\n",
    "                   Chrome/21.0.1180.71 Safari/537.1 LBBROWSER\",\n",
    "                   \"Mozilla/4.0 (compatible; MSIE 6.0; Windows NT 5.1; SV1; QQDownload 732;\\\n",
    "                    .NET4.0C; .NET4.0E; LBBROWSER)\",\n",
    "                   \"Mozilla/4.0 (compatible; MSIE 7.0; Windows NT 6.1; WOW64; Trident/5.0; \\\n",
    "                   SLCC2; .NET CLR 2.0.50727; .NET CLR 3.5.30729; .NET CLR 3.0.30729; \\\n",
    "                   Media Center PC 6.0; .NET4.0C; .NET4.0E)\"]#浏览器\n",
    "    proxies=[{\"HTTP\":\"117.63.78.64:6666\"},\n",
    "               {\"HTTPS\":\"114.225.169.215:53128\"},\n",
    "               {\"HTTPS\":\"222.185.22.108:6666\"}] #代理IP\n",
    "    #url= \"https://sou.zhaopin.com/?p=\"+str(page_number)+\"&jl=\"+urllib.parse.quote(city)+\"&kw=\"+urllib.parse.quote(jobname)+\"&kt=3\"\n",
    "    url=\"https://sou.zhaopin.com/jobs/searchresult.ashx?p=\"+str(page_number)+\"&jl=\"+urllib.parse.quote(city)+\"&kw=\"+urllib.parse.quote(jobname)+\"&kt=3&sadv=0\"\n",
    "    r=requests.get(url,headers={\"User-Agent\":random.choice(USER_AGENTS)},proxies=random.choice(proxies))\n",
    "    code= chardet.detect(r.content)[\"encoding\"]\n",
    "    return r.content.decode(code)"
   ]
  },
  {
   "cell_type": "code",
   "execution_count": 3,
   "metadata": {},
   "outputs": [],
   "source": [
    "DataList= []\n",
    "\n",
    "def Parser_HTML(page_number,city,jobname):\n",
    "    \n",
    "    reg=re.compile(r'<td class=\"zwmc\" style=\"width: 250px;\">.*?（<b>AI</b>）(.*?)</a>.*?'\n",
    "                     r'<td class=\"gsmc\"><a href=\".*?\" target=\"_blank\">(.*?)</a>.*?'\n",
    "                     r'<td class=\"zwyx\">(.*?)</td>.*?'\n",
    "                     r'<td class=\"gzdd\">(.*?)</td>.*?', re.S)\n",
    "    for j in range(int(page_number)): \n",
    "        html=getHtml(j+1,city,jobname)\n",
    "        result=re.findall(reg,html)\n",
    "        for i in result:\n",
    "            DataList.append(i)\n",
    "    print(DataList)\n",
    "    return DataList"
   ]
  },
  {
   "cell_type": "code",
   "execution_count": 4,
   "metadata": {},
   "outputs": [],
   "source": [
    "def Save_Excel(city,jobname,filename):\n",
    "    wbk=xlwt.Workbook(encoding=\"utf-8\")\n",
    "    sheet1=wbk.add_sheet(\"智联\"+str(city)+str(jobname)+\"职位信息\")\n",
    "    field=(\"职位信息\",\"公司名称\",\"职位薪资\",\"工作地点\")\n",
    "    for i in range(len(field)):\n",
    "        sheet1.write(0,i,field[i])\n",
    "    for j in range(len(DataList)):\n",
    "        for k in range(len(field)):\n",
    "            sheet1.write(j+1,k,DataList[j][k])\n",
    "    wbk.save(u'智联' + filename + u'职位信息.xls')"
   ]
  },
  {
   "cell_type": "code",
   "execution_count": 5,
   "metadata": {},
   "outputs": [
    {
     "name": "stdout",
     "output_type": "stream",
     "text": [
      "[]\n"
     ]
    }
   ],
   "source": [
    "def main():\n",
    "    Parser_HTML(3,\"上海\",\"AI\")\n",
    "    Save_Excel(\"上海\",\"AI\",\"AI\")\n",
    "main()"
   ]
  }
 ],
 "metadata": {
  "kernelspec": {
   "display_name": "Python 3",
   "language": "python",
   "name": "python3"
  },
  "language_info": {
   "codemirror_mode": {
    "name": "ipython",
    "version": 3
   },
   "file_extension": ".py",
   "mimetype": "text/x-python",
   "name": "python",
   "nbconvert_exporter": "python",
   "pygments_lexer": "ipython3",
   "version": "3.5.3"
  }
 },
 "nbformat": 4,
 "nbformat_minor": 2
}
